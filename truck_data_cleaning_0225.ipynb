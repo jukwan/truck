{
 "cells": [
  {
   "cell_type": "code",
   "execution_count": 2,
   "metadata": {},
   "outputs": [],
   "source": [
    "## setting\n",
    "import pandas as pd\n",
    "import numpy as np\n",
    "import os\n",
    "import matplotlib.pyplot as plt\n",
    "import matplotlib.style as style"
   ]
  },
  {
   "cell_type": "markdown",
   "metadata": {},
   "source": [
    "# Ag_carrier data"
   ]
  },
  {
   "cell_type": "code",
   "execution_count": 3,
   "metadata": {},
   "outputs": [],
   "source": [
    "## Carrier infor (Ag only)\n",
    "\n",
    "carrier_ag = pd.read_csv('G:\\AccidentData\\AGRICULTURAL CARRIERS.txt', sep=\",\")"
   ]
  },
  {
   "cell_type": "code",
   "execution_count": 9,
   "metadata": {},
   "outputs": [
    {
     "data": {
      "text/html": [
       "<div>\n",
       "<style scoped>\n",
       "    .dataframe tbody tr th:only-of-type {\n",
       "        vertical-align: middle;\n",
       "    }\n",
       "\n",
       "    .dataframe tbody tr th {\n",
       "        vertical-align: top;\n",
       "    }\n",
       "\n",
       "    .dataframe thead th {\n",
       "        text-align: right;\n",
       "    }\n",
       "</style>\n",
       "<table border=\"1\" class=\"dataframe\">\n",
       "  <thead>\n",
       "    <tr style=\"text-align: right;\">\n",
       "      <th></th>\n",
       "      <th>DOT_NUMBER</th>\n",
       "      <th>LEGAL_NAME</th>\n",
       "      <th>DBA_NAME</th>\n",
       "      <th>CARRIER_OPERATION</th>\n",
       "      <th>CARGO_CLASSIFICATION_CODE</th>\n",
       "      <th>HM_FLAG</th>\n",
       "      <th>PASSENGER_FLAG</th>\n",
       "      <th>PHY_STREET</th>\n",
       "      <th>PHY_CITY</th>\n",
       "      <th>PHY_STATE</th>\n",
       "      <th>PHY_ZIP</th>\n",
       "      <th>PHY_COUNTRY</th>\n",
       "      <th>NBR_POWER_UNIT</th>\n",
       "      <th>TOTAL_DRIVERS</th>\n",
       "    </tr>\n",
       "  </thead>\n",
       "  <tbody>\n",
       "    <tr>\n",
       "      <th>0</th>\n",
       "      <td>4</td>\n",
       "      <td>CONSOLIDATED GRANITE CO INC</td>\n",
       "      <td>NaN</td>\n",
       "      <td>A</td>\n",
       "      <td>P</td>\n",
       "      <td>NaN</td>\n",
       "      <td>NaN</td>\n",
       "      <td>1149 HARTWELL HIGHWAY</td>\n",
       "      <td>ELBERTON</td>\n",
       "      <td>GA</td>\n",
       "      <td>30635</td>\n",
       "      <td>US</td>\n",
       "      <td>1.0</td>\n",
       "      <td>1.0</td>\n",
       "    </tr>\n",
       "    <tr>\n",
       "      <th>1</th>\n",
       "      <td>9</td>\n",
       "      <td>COOPER BROTHERS INC</td>\n",
       "      <td>NaN</td>\n",
       "      <td>A</td>\n",
       "      <td>J</td>\n",
       "      <td>NaN</td>\n",
       "      <td>NaN</td>\n",
       "      <td>P  O  BOX 167</td>\n",
       "      <td>BRASELTON</td>\n",
       "      <td>GA</td>\n",
       "      <td>30517</td>\n",
       "      <td>US</td>\n",
       "      <td>NaN</td>\n",
       "      <td>NaN</td>\n",
       "    </tr>\n",
       "    <tr>\n",
       "      <th>2</th>\n",
       "      <td>65</td>\n",
       "      <td>CHEROKEE PRODUCTS COMPANY</td>\n",
       "      <td>NaN</td>\n",
       "      <td>A</td>\n",
       "      <td>W</td>\n",
       "      <td>NaN</td>\n",
       "      <td>NaN</td>\n",
       "      <td>HWY 22 EAST  BOX 98</td>\n",
       "      <td>HADDOCK</td>\n",
       "      <td>GA</td>\n",
       "      <td>31033</td>\n",
       "      <td>US</td>\n",
       "      <td>8.0</td>\n",
       "      <td>6.0</td>\n",
       "    </tr>\n",
       "    <tr>\n",
       "      <th>3</th>\n",
       "      <td>82</td>\n",
       "      <td>BLUE VALLEY DAIRY FARM INC</td>\n",
       "      <td>NaN</td>\n",
       "      <td>A</td>\n",
       "      <td>P</td>\n",
       "      <td>NaN</td>\n",
       "      <td>NaN</td>\n",
       "      <td>RR 1 BOX 20</td>\n",
       "      <td>HOVEN</td>\n",
       "      <td>SD</td>\n",
       "      <td>57450-9714</td>\n",
       "      <td>US</td>\n",
       "      <td>4.0</td>\n",
       "      <td>1.0</td>\n",
       "    </tr>\n",
       "    <tr>\n",
       "      <th>4</th>\n",
       "      <td>87</td>\n",
       "      <td>RICKY L RUDEBUSCH</td>\n",
       "      <td>RUDEBUSCH TRUCKING</td>\n",
       "      <td>A</td>\n",
       "      <td>P</td>\n",
       "      <td>NaN</td>\n",
       "      <td>NaN</td>\n",
       "      <td>1320 E 1ST  ST</td>\n",
       "      <td>WEBSTER</td>\n",
       "      <td>SD</td>\n",
       "      <td>57274</td>\n",
       "      <td>US</td>\n",
       "      <td>NaN</td>\n",
       "      <td>NaN</td>\n",
       "    </tr>\n",
       "  </tbody>\n",
       "</table>\n",
       "</div>"
      ],
      "text/plain": [
       "   DOT_NUMBER                   LEGAL_NAME            DBA_NAME  \\\n",
       "0           4  CONSOLIDATED GRANITE CO INC                 NaN   \n",
       "1           9          COOPER BROTHERS INC                 NaN   \n",
       "2          65    CHEROKEE PRODUCTS COMPANY                 NaN   \n",
       "3          82   BLUE VALLEY DAIRY FARM INC                 NaN   \n",
       "4          87            RICKY L RUDEBUSCH  RUDEBUSCH TRUCKING   \n",
       "\n",
       "  CARRIER_OPERATION CARGO_CLASSIFICATION_CODE HM_FLAG PASSENGER_FLAG  \\\n",
       "0                 A                         P     NaN            NaN   \n",
       "1                 A                         J     NaN            NaN   \n",
       "2                 A                         W     NaN            NaN   \n",
       "3                 A                         P     NaN            NaN   \n",
       "4                 A                         P     NaN            NaN   \n",
       "\n",
       "              PHY_STREET   PHY_CITY PHY_STATE     PHY_ZIP PHY_COUNTRY  \\\n",
       "0  1149 HARTWELL HIGHWAY   ELBERTON        GA       30635          US   \n",
       "1          P  O  BOX 167  BRASELTON        GA       30517          US   \n",
       "2    HWY 22 EAST  BOX 98    HADDOCK        GA       31033          US   \n",
       "3            RR 1 BOX 20      HOVEN        SD  57450-9714          US   \n",
       "4         1320 E 1ST  ST    WEBSTER        SD       57274          US   \n",
       "\n",
       "   NBR_POWER_UNIT  TOTAL_DRIVERS  \n",
       "0             1.0            1.0  \n",
       "1             NaN            NaN  \n",
       "2             8.0            6.0  \n",
       "3             4.0            1.0  \n",
       "4             NaN            NaN  "
      ]
     },
     "execution_count": 9,
     "metadata": {},
     "output_type": "execute_result"
    }
   ],
   "source": [
    "carrier_ag.head(5)"
   ]
  },
  {
   "cell_type": "markdown",
   "metadata": {},
   "source": [
    "#### Variables"
   ]
  },
  {
   "cell_type": "code",
   "execution_count": 4,
   "metadata": {},
   "outputs": [
    {
     "data": {
      "text/plain": [
       "Index(['DOT_NUMBER', 'LEGAL_NAME', 'DBA_NAME', 'CARRIER_OPERATION',\n",
       "       'CARGO_CLASSIFICATION_CODE', 'HM_FLAG', 'PASSENGER_FLAG', 'PHY_STREET',\n",
       "       'PHY_CITY', 'PHY_STATE', 'PHY_ZIP', 'PHY_COUNTRY', 'NBR_POWER_UNIT',\n",
       "       'TOTAL_DRIVERS'],\n",
       "      dtype='object')"
      ]
     },
     "execution_count": 4,
     "metadata": {},
     "output_type": "execute_result"
    }
   ],
   "source": [
    "carrier_ag.columns"
   ]
  },
  {
   "cell_type": "code",
   "execution_count": 33,
   "metadata": {},
   "outputs": [
    {
     "data": {
      "text/plain": [
       "751616"
      ]
     },
     "execution_count": 33,
     "metadata": {},
     "output_type": "execute_result"
    }
   ],
   "source": [
    "len(carrier_ag)"
   ]
  },
  {
   "cell_type": "code",
   "execution_count": 30,
   "metadata": {},
   "outputs": [],
   "source": [
    "# indicating carrier type (will drop regrefreigiated food carrier)\n",
    "carrier_target = carrier_ag[(carrier_ag['CARGO_CLASSIFICATION_CODE']=='P')| (carrier_ag['CARGO_CLASSIFICATION_CODE']=='F')]\n"
   ]
  },
  {
   "cell_type": "code",
   "execution_count": 32,
   "metadata": {},
   "outputs": [
    {
     "data": {
      "text/plain": [
       "284530"
      ]
     },
     "execution_count": 32,
     "metadata": {},
     "output_type": "execute_result"
    }
   ],
   "source": [
    "len(carrier_target)"
   ]
  },
  {
   "cell_type": "code",
   "execution_count": 34,
   "metadata": {},
   "outputs": [
    {
     "data": {
      "text/plain": [
       "F    185370\n",
       "P     99160\n",
       "Name: CARGO_CLASSIFICATION_CODE, dtype: int64"
      ]
     },
     "execution_count": 34,
     "metadata": {},
     "output_type": "execute_result"
    }
   ],
   "source": [
    "carrier_target['CARGO_CLASSIFICATION_CODE'].value_counts()"
   ]
  },
  {
   "cell_type": "code",
   "execution_count": 102,
   "metadata": {},
   "outputs": [
    {
     "data": {
      "text/plain": [
       "0.010596239736197161"
      ]
     },
     "execution_count": 102,
     "metadata": {},
     "output_type": "execute_result"
    }
   ],
   "source": [
    "15993/1509309\n"
   ]
  },
  {
   "cell_type": "markdown",
   "metadata": {},
   "source": [
    "# Merge Ag_carrier and Accident data "
   ]
  },
  {
   "cell_type": "code",
   "execution_count": 15,
   "metadata": {},
   "outputs": [],
   "source": [
    "carrier=pd.concat([carrier_ag,car_cencus],sort=False).drop_duplicates('DOT_NUMBER',keep='first').reset_index(drop=True)"
   ]
  },
  {
   "cell_type": "code",
   "execution_count": 19,
   "metadata": {},
   "outputs": [
    {
     "data": {
      "text/plain": [
       "1948830"
      ]
     },
     "execution_count": 19,
     "metadata": {},
     "output_type": "execute_result"
    }
   ],
   "source": [
    "len(carrier)"
   ]
  },
  {
   "cell_type": "code",
   "execution_count": 35,
   "metadata": {},
   "outputs": [],
   "source": [
    "#3 call crash data\n",
    "#crash_ag= pd.read_csv('CRASH DETAIL.txt',sep=\",\", encoding= \"ISO-8859-1\") Old data\n",
    "\n",
    "crash_all= pd.read_csv('G:\\AccidentData\\crash_all.txt',sep=\",\", encoding= \"ISO-8859-1\")"
   ]
  },
  {
   "cell_type": "code",
   "execution_count": 36,
   "metadata": {},
   "outputs": [
    {
     "data": {
      "text/plain": [
       "1509309"
      ]
     },
     "execution_count": 36,
     "metadata": {},
     "output_type": "execute_result"
    }
   ],
   "source": [
    "len(crash_all)"
   ]
  },
  {
   "cell_type": "code",
   "execution_count": 37,
   "metadata": {},
   "outputs": [],
   "source": [
    "df= pd.merge(crash_all, carrier_target, how='left', on ='DOT_NUMBER',indicator=True)"
   ]
  },
  {
   "cell_type": "code",
   "execution_count": 42,
   "metadata": {},
   "outputs": [
    {
     "data": {
      "text/plain": [
       "left_only     1378807\n",
       "both           130502\n",
       "right_only          0\n",
       "Name: _merge, dtype: int64"
      ]
     },
     "execution_count": 42,
     "metadata": {},
     "output_type": "execute_result"
    }
   ],
   "source": [
    "df['_merge'].value_counts()"
   ]
  },
  {
   "cell_type": "code",
   "execution_count": 53,
   "metadata": {},
   "outputs": [
    {
     "data": {
      "text/plain": [
       "F    96856\n",
       "P    33646\n",
       "Name: CARGO_CLASSIFICATION_CODE, dtype: int64"
      ]
     },
     "execution_count": 53,
     "metadata": {},
     "output_type": "execute_result"
    }
   ],
   "source": [
    "df['CARGO_CLASSIFICATION_CODE'].value_counts()"
   ]
  },
  {
   "cell_type": "code",
   "execution_count": 44,
   "metadata": {},
   "outputs": [
    {
     "data": {
      "text/plain": [
       "Index(['CRASH_ID', 'REPORT_STATE', 'REPORT_NUMBER', 'REPORT_DATE',\n",
       "       'REPORT_TIME', 'DOT_NUMBER', 'LOCATION', 'CITY', 'STATE', 'COUNTY_CODE',\n",
       "       'TRUCK_BUS_IND', 'AXLES', 'CARGO_BODY_TYPE_DESC', 'GVWR',\n",
       "       'GVW_RATING_DESC', 'VEHICLE_IDENTIFICATION_NUMBER',\n",
       "       'VEHICLE_LICENSE_NUMBER', 'VEHICLE_LIC_STATE', 'VEHICLE_HAZMAT_PLACARD',\n",
       "       'VEHICLE_HAZMAT_MATERIAL', 'VEHICLE_CONFIGURATION_DESC',\n",
       "       'HAZMAT_RELEASED', 'VEHICLES_IN_ACCIDENT', 'FATALITIES', 'INJURIES',\n",
       "       'TOW_AWAY', 'TRAFFICWAY_DESC', 'ROAD_SURFACE_CONDITION_DESC',\n",
       "       'WEATHER_CONDITION_DESC', 'LEGAL_NAME', 'DBA_NAME', 'CARRIER_OPERATION',\n",
       "       'CARGO_CLASSIFICATION_CODE', 'HM_FLAG', 'PASSENGER_FLAG', 'PHY_STREET',\n",
       "       'PHY_CITY', 'PHY_STATE', 'PHY_ZIP', 'PHY_COUNTRY', 'NBR_POWER_UNIT',\n",
       "       'TOTAL_DRIVERS', '_merge'],\n",
       "      dtype='object')"
      ]
     },
     "execution_count": 44,
     "metadata": {},
     "output_type": "execute_result"
    }
   ],
   "source": [
    "df.columns"
   ]
  },
  {
   "cell_type": "code",
   "execution_count": 47,
   "metadata": {},
   "outputs": [
    {
     "data": {
      "text/plain": [
       "_merge\n",
       "left_only     1378807\n",
       "right_only          0\n",
       "both           130502\n",
       "dtype: int64"
      ]
     },
     "execution_count": 47,
     "metadata": {},
     "output_type": "execute_result"
    }
   ],
   "source": [
    "df.groupby(df._merge).size()"
   ]
  },
  {
   "cell_type": "markdown",
   "metadata": {},
   "source": [
    "### Pure Grain and Log carring case."
   ]
  },
  {
   "cell_type": "code",
   "execution_count": 50,
   "metadata": {},
   "outputs": [
    {
     "data": {
      "text/plain": [
       "VAN/ENCLOSED BOX                                642850\n",
       "OTHER                                           233086\n",
       "FLATBED                                         177481\n",
       "DUMP                                            129154\n",
       "CARGO TANK                                       91783\n",
       "NOT APPLICABLE/NO CARGO BODY                     76542\n",
       "GARBAGE/REFUSE                                   37829\n",
       "GRAIN, CHIPS, GRAVEL                             32839\n",
       "AUTO TRANSPORTER                                 17859\n",
       "LOGGING                                          14268\n",
       "CONCRETE MIXER                                   12806\n",
       "INTERMODAL                                       12074\n",
       "VEHICLE TOWING ANOTHER VEHICLE                    7039\n",
       "POLE                                              6523\n",
       "BUS (SEATS FOR > 15 PEOPLE, INCLUDING DRIVER        52\n",
       "BUS (SEATS FOR 9-15 PEOPLE, INCLUDING DRIVER        10\n",
       "Name: CARGO_BODY_TYPE_DESC, dtype: int64"
      ]
     },
     "execution_count": 50,
     "metadata": {},
     "output_type": "execute_result"
    }
   ],
   "source": [
    "df.CARGO_BODY_TYPE_DESC.value_counts()"
   ]
  },
  {
   "cell_type": "code",
   "execution_count": 52,
   "metadata": {},
   "outputs": [
    {
     "data": {
      "text/html": [
       "<div>\n",
       "<style scoped>\n",
       "    .dataframe tbody tr th:only-of-type {\n",
       "        vertical-align: middle;\n",
       "    }\n",
       "\n",
       "    .dataframe tbody tr th {\n",
       "        vertical-align: top;\n",
       "    }\n",
       "\n",
       "    .dataframe thead th {\n",
       "        text-align: right;\n",
       "    }\n",
       "</style>\n",
       "<table border=\"1\" class=\"dataframe\">\n",
       "  <thead>\n",
       "    <tr style=\"text-align: right;\">\n",
       "      <th></th>\n",
       "      <th></th>\n",
       "      <th>FATALITIES</th>\n",
       "      <th>INJURIES</th>\n",
       "      <th>DOT_NUMBER</th>\n",
       "    </tr>\n",
       "    <tr>\n",
       "      <th>CARGO_CLASSIFICATION_CODE</th>\n",
       "      <th>CARGO_BODY_TYPE_DESC</th>\n",
       "      <th></th>\n",
       "      <th></th>\n",
       "      <th></th>\n",
       "    </tr>\n",
       "  </thead>\n",
       "  <tbody>\n",
       "    <tr>\n",
       "      <th rowspan=\"14\" valign=\"top\">F</th>\n",
       "      <th>AUTO TRANSPORTER</th>\n",
       "      <td>11</td>\n",
       "      <td>143</td>\n",
       "      <td>275</td>\n",
       "    </tr>\n",
       "    <tr>\n",
       "      <th>CARGO TANK</th>\n",
       "      <td>73</td>\n",
       "      <td>1077</td>\n",
       "      <td>1999</td>\n",
       "    </tr>\n",
       "    <tr>\n",
       "      <th>CONCRETE MIXER</th>\n",
       "      <td>7</td>\n",
       "      <td>136</td>\n",
       "      <td>295</td>\n",
       "    </tr>\n",
       "    <tr>\n",
       "      <th>DUMP</th>\n",
       "      <td>159</td>\n",
       "      <td>2847</td>\n",
       "      <td>4841</td>\n",
       "    </tr>\n",
       "    <tr>\n",
       "      <th>FLATBED</th>\n",
       "      <td>1291</td>\n",
       "      <td>17739</td>\n",
       "      <td>33337</td>\n",
       "    </tr>\n",
       "    <tr>\n",
       "      <th>GARBAGE/REFUSE</th>\n",
       "      <td>9</td>\n",
       "      <td>276</td>\n",
       "      <td>465</td>\n",
       "    </tr>\n",
       "    <tr>\n",
       "      <th>GRAIN, CHIPS, GRAVEL</th>\n",
       "      <td>120</td>\n",
       "      <td>1185</td>\n",
       "      <td>2115</td>\n",
       "    </tr>\n",
       "    <tr>\n",
       "      <th>INTERMODAL</th>\n",
       "      <td>13</td>\n",
       "      <td>299</td>\n",
       "      <td>529</td>\n",
       "    </tr>\n",
       "    <tr>\n",
       "      <th>LOGGING</th>\n",
       "      <td>545</td>\n",
       "      <td>5767</td>\n",
       "      <td>9723</td>\n",
       "    </tr>\n",
       "    <tr>\n",
       "      <th>NOT APPLICABLE/NO CARGO BODY</th>\n",
       "      <td>138</td>\n",
       "      <td>2465</td>\n",
       "      <td>4291</td>\n",
       "    </tr>\n",
       "    <tr>\n",
       "      <th>OTHER</th>\n",
       "      <td>486</td>\n",
       "      <td>7105</td>\n",
       "      <td>13579</td>\n",
       "    </tr>\n",
       "    <tr>\n",
       "      <th>POLE</th>\n",
       "      <td>121</td>\n",
       "      <td>1504</td>\n",
       "      <td>2456</td>\n",
       "    </tr>\n",
       "    <tr>\n",
       "      <th>VAN/ENCLOSED BOX</th>\n",
       "      <td>682</td>\n",
       "      <td>11471</td>\n",
       "      <td>22038</td>\n",
       "    </tr>\n",
       "    <tr>\n",
       "      <th>VEHICLE TOWING ANOTHER VEHICLE</th>\n",
       "      <td>7</td>\n",
       "      <td>121</td>\n",
       "      <td>243</td>\n",
       "    </tr>\n",
       "    <tr>\n",
       "      <th rowspan=\"14\" valign=\"top\">P</th>\n",
       "      <th>AUTO TRANSPORTER</th>\n",
       "      <td>1</td>\n",
       "      <td>50</td>\n",
       "      <td>88</td>\n",
       "    </tr>\n",
       "    <tr>\n",
       "      <th>CARGO TANK</th>\n",
       "      <td>180</td>\n",
       "      <td>2005</td>\n",
       "      <td>3810</td>\n",
       "    </tr>\n",
       "    <tr>\n",
       "      <th>CONCRETE MIXER</th>\n",
       "      <td>3</td>\n",
       "      <td>35</td>\n",
       "      <td>61</td>\n",
       "    </tr>\n",
       "    <tr>\n",
       "      <th>DUMP</th>\n",
       "      <td>254</td>\n",
       "      <td>2569</td>\n",
       "      <td>4461</td>\n",
       "    </tr>\n",
       "    <tr>\n",
       "      <th>FLATBED</th>\n",
       "      <td>116</td>\n",
       "      <td>1492</td>\n",
       "      <td>3045</td>\n",
       "    </tr>\n",
       "    <tr>\n",
       "      <th>GARBAGE/REFUSE</th>\n",
       "      <td>10</td>\n",
       "      <td>99</td>\n",
       "      <td>219</td>\n",
       "    </tr>\n",
       "    <tr>\n",
       "      <th>GRAIN, CHIPS, GRAVEL</th>\n",
       "      <td>368</td>\n",
       "      <td>3269</td>\n",
       "      <td>6270</td>\n",
       "    </tr>\n",
       "    <tr>\n",
       "      <th>INTERMODAL</th>\n",
       "      <td>4</td>\n",
       "      <td>116</td>\n",
       "      <td>213</td>\n",
       "    </tr>\n",
       "    <tr>\n",
       "      <th>LOGGING</th>\n",
       "      <td>1</td>\n",
       "      <td>37</td>\n",
       "      <td>59</td>\n",
       "    </tr>\n",
       "    <tr>\n",
       "      <th>NOT APPLICABLE/NO CARGO BODY</th>\n",
       "      <td>30</td>\n",
       "      <td>554</td>\n",
       "      <td>1016</td>\n",
       "    </tr>\n",
       "    <tr>\n",
       "      <th>OTHER</th>\n",
       "      <td>129</td>\n",
       "      <td>1960</td>\n",
       "      <td>3629</td>\n",
       "    </tr>\n",
       "    <tr>\n",
       "      <th>POLE</th>\n",
       "      <td>0</td>\n",
       "      <td>23</td>\n",
       "      <td>51</td>\n",
       "    </tr>\n",
       "    <tr>\n",
       "      <th>VAN/ENCLOSED BOX</th>\n",
       "      <td>413</td>\n",
       "      <td>5360</td>\n",
       "      <td>10424</td>\n",
       "    </tr>\n",
       "    <tr>\n",
       "      <th>VEHICLE TOWING ANOTHER VEHICLE</th>\n",
       "      <td>3</td>\n",
       "      <td>52</td>\n",
       "      <td>74</td>\n",
       "    </tr>\n",
       "  </tbody>\n",
       "</table>\n",
       "</div>"
      ],
      "text/plain": [
       "                                                          FATALITIES  \\\n",
       "CARGO_CLASSIFICATION_CODE CARGO_BODY_TYPE_DESC                         \n",
       "F                         AUTO TRANSPORTER                        11   \n",
       "                          CARGO TANK                              73   \n",
       "                          CONCRETE MIXER                           7   \n",
       "                          DUMP                                   159   \n",
       "                          FLATBED                               1291   \n",
       "                          GARBAGE/REFUSE                           9   \n",
       "                          GRAIN, CHIPS, GRAVEL                   120   \n",
       "                          INTERMODAL                              13   \n",
       "                          LOGGING                                545   \n",
       "                          NOT APPLICABLE/NO CARGO BODY           138   \n",
       "                          OTHER                                  486   \n",
       "                          POLE                                   121   \n",
       "                          VAN/ENCLOSED BOX                       682   \n",
       "                          VEHICLE TOWING ANOTHER VEHICLE           7   \n",
       "P                         AUTO TRANSPORTER                         1   \n",
       "                          CARGO TANK                             180   \n",
       "                          CONCRETE MIXER                           3   \n",
       "                          DUMP                                   254   \n",
       "                          FLATBED                                116   \n",
       "                          GARBAGE/REFUSE                          10   \n",
       "                          GRAIN, CHIPS, GRAVEL                   368   \n",
       "                          INTERMODAL                               4   \n",
       "                          LOGGING                                  1   \n",
       "                          NOT APPLICABLE/NO CARGO BODY            30   \n",
       "                          OTHER                                  129   \n",
       "                          POLE                                     0   \n",
       "                          VAN/ENCLOSED BOX                       413   \n",
       "                          VEHICLE TOWING ANOTHER VEHICLE           3   \n",
       "\n",
       "                                                          INJURIES  DOT_NUMBER  \n",
       "CARGO_CLASSIFICATION_CODE CARGO_BODY_TYPE_DESC                                  \n",
       "F                         AUTO TRANSPORTER                     143         275  \n",
       "                          CARGO TANK                          1077        1999  \n",
       "                          CONCRETE MIXER                       136         295  \n",
       "                          DUMP                                2847        4841  \n",
       "                          FLATBED                            17739       33337  \n",
       "                          GARBAGE/REFUSE                       276         465  \n",
       "                          GRAIN, CHIPS, GRAVEL                1185        2115  \n",
       "                          INTERMODAL                           299         529  \n",
       "                          LOGGING                             5767        9723  \n",
       "                          NOT APPLICABLE/NO CARGO BODY        2465        4291  \n",
       "                          OTHER                               7105       13579  \n",
       "                          POLE                                1504        2456  \n",
       "                          VAN/ENCLOSED BOX                   11471       22038  \n",
       "                          VEHICLE TOWING ANOTHER VEHICLE       121         243  \n",
       "P                         AUTO TRANSPORTER                      50          88  \n",
       "                          CARGO TANK                          2005        3810  \n",
       "                          CONCRETE MIXER                        35          61  \n",
       "                          DUMP                                2569        4461  \n",
       "                          FLATBED                             1492        3045  \n",
       "                          GARBAGE/REFUSE                        99         219  \n",
       "                          GRAIN, CHIPS, GRAVEL                3269        6270  \n",
       "                          INTERMODAL                           116         213  \n",
       "                          LOGGING                               37          59  \n",
       "                          NOT APPLICABLE/NO CARGO BODY         554        1016  \n",
       "                          OTHER                               1960        3629  \n",
       "                          POLE                                  23          51  \n",
       "                          VAN/ENCLOSED BOX                    5360       10424  \n",
       "                          VEHICLE TOWING ANOTHER VEHICLE        52          74  "
      ]
     },
     "execution_count": 52,
     "metadata": {},
     "output_type": "execute_result"
    }
   ],
   "source": [
    "firm_stat=df.groupby(by=['CARGO_CLASSIFICATION_CODE','CARGO_BODY_TYPE_DESC']).agg({'FATALITIES':sum, 'INJURIES':sum,\n",
    "                                                       'DOT_NUMBER':\"count\"})\n",
    "firm_stat"
   ]
  },
  {
   "cell_type": "code",
   "execution_count": 83,
   "metadata": {},
   "outputs": [],
   "source": [
    "df['hopper_logger']=0\n",
    "\n",
    "df['hopper_logger']=np.where((df['CARGO_CLASSIFICATION_CODE']=='F') & (df['CARGO_BODY_TYPE_DESC']=='LOGGING'), 1,df['hopper_logger'])"
   ]
  },
  {
   "cell_type": "code",
   "execution_count": 84,
   "metadata": {},
   "outputs": [
    {
     "data": {
      "text/plain": [
       "0    1499586\n",
       "1       9723\n",
       "Name: hopper_logger, dtype: int64"
      ]
     },
     "execution_count": 84,
     "metadata": {},
     "output_type": "execute_result"
    }
   ],
   "source": [
    "df['hopper_logger'].value_counts()"
   ]
  },
  {
   "cell_type": "code",
   "execution_count": 85,
   "metadata": {},
   "outputs": [],
   "source": [
    "df['hopper_logger']=np.where((df['CARGO_CLASSIFICATION_CODE']=='P') & (df['CARGO_BODY_TYPE_DESC']=='GRAIN, CHIPS, GRAVEL'),1,df['hopper_logger'])"
   ]
  },
  {
   "cell_type": "code",
   "execution_count": null,
   "metadata": {},
   "outputs": [],
   "source": []
  },
  {
   "cell_type": "code",
   "execution_count": 86,
   "metadata": {},
   "outputs": [
    {
     "data": {
      "text/plain": [
       "0    1493316\n",
       "1      15993\n",
       "Name: hopper_logger, dtype: int64"
      ]
     },
     "execution_count": 86,
     "metadata": {},
     "output_type": "execute_result"
    }
   ],
   "source": [
    "df['hopper_logger'].value_counts()"
   ]
  },
  {
   "cell_type": "code",
   "execution_count": 87,
   "metadata": {},
   "outputs": [],
   "source": [
    "\n",
    "df.REPORT_DATE = pd.to_datetime(df.REPORT_DATE)\n",
    "\n",
    "df['year'] = df['REPORT_DATE'].dt.year\n",
    "df['month'] = df['REPORT_DATE'].dt.month"
   ]
  },
  {
   "cell_type": "code",
   "execution_count": null,
   "metadata": {},
   "outputs": [],
   "source": []
  },
  {
   "cell_type": "code",
   "execution_count": 94,
   "metadata": {},
   "outputs": [
    {
     "data": {
      "text/html": [
       "<div>\n",
       "<style scoped>\n",
       "    .dataframe tbody tr th:only-of-type {\n",
       "        vertical-align: middle;\n",
       "    }\n",
       "\n",
       "    .dataframe tbody tr th {\n",
       "        vertical-align: top;\n",
       "    }\n",
       "\n",
       "    .dataframe thead th {\n",
       "        text-align: right;\n",
       "    }\n",
       "</style>\n",
       "<table border=\"1\" class=\"dataframe\">\n",
       "  <thead>\n",
       "    <tr style=\"text-align: right;\">\n",
       "      <th>hopper_logger</th>\n",
       "      <th>0</th>\n",
       "      <th>1</th>\n",
       "    </tr>\n",
       "    <tr>\n",
       "      <th>month</th>\n",
       "      <th></th>\n",
       "      <th></th>\n",
       "    </tr>\n",
       "  </thead>\n",
       "  <tbody>\n",
       "    <tr>\n",
       "      <th>1</th>\n",
       "      <td>0.091573</td>\n",
       "      <td>0.087038</td>\n",
       "    </tr>\n",
       "    <tr>\n",
       "      <th>2</th>\n",
       "      <td>0.084728</td>\n",
       "      <td>0.076408</td>\n",
       "    </tr>\n",
       "    <tr>\n",
       "      <th>3</th>\n",
       "      <td>0.082619</td>\n",
       "      <td>0.078659</td>\n",
       "    </tr>\n",
       "    <tr>\n",
       "      <th>4</th>\n",
       "      <td>0.076848</td>\n",
       "      <td>0.072219</td>\n",
       "    </tr>\n",
       "    <tr>\n",
       "      <th>5</th>\n",
       "      <td>0.080857</td>\n",
       "      <td>0.073782</td>\n",
       "    </tr>\n",
       "    <tr>\n",
       "      <th>6</th>\n",
       "      <td>0.084128</td>\n",
       "      <td>0.080723</td>\n",
       "    </tr>\n",
       "    <tr>\n",
       "      <th>7</th>\n",
       "      <td>0.081561</td>\n",
       "      <td>0.079285</td>\n",
       "    </tr>\n",
       "    <tr>\n",
       "      <th>8</th>\n",
       "      <td>0.085693</td>\n",
       "      <td>0.088039</td>\n",
       "    </tr>\n",
       "    <tr>\n",
       "      <th>9</th>\n",
       "      <td>0.082534</td>\n",
       "      <td>0.093103</td>\n",
       "    </tr>\n",
       "    <tr>\n",
       "      <th>10</th>\n",
       "      <td>0.089607</td>\n",
       "      <td>0.104358</td>\n",
       "    </tr>\n",
       "    <tr>\n",
       "      <th>11</th>\n",
       "      <td>0.077928</td>\n",
       "      <td>0.085600</td>\n",
       "    </tr>\n",
       "    <tr>\n",
       "      <th>12</th>\n",
       "      <td>0.081922</td>\n",
       "      <td>0.080785</td>\n",
       "    </tr>\n",
       "  </tbody>\n",
       "</table>\n",
       "</div>"
      ],
      "text/plain": [
       "hopper_logger         0         1\n",
       "month                            \n",
       "1              0.091573  0.087038\n",
       "2              0.084728  0.076408\n",
       "3              0.082619  0.078659\n",
       "4              0.076848  0.072219\n",
       "5              0.080857  0.073782\n",
       "6              0.084128  0.080723\n",
       "7              0.081561  0.079285\n",
       "8              0.085693  0.088039\n",
       "9              0.082534  0.093103\n",
       "10             0.089607  0.104358\n",
       "11             0.077928  0.085600\n",
       "12             0.081922  0.080785"
      ]
     },
     "execution_count": 94,
     "metadata": {},
     "output_type": "execute_result"
    }
   ],
   "source": [
    "fig0_dt=pd.crosstab(df['month'],df['hopper_logger']).apply(lambda r: r/r.sum(), axis=0)\n",
    "fig0_dt"
   ]
  },
  {
   "cell_type": "code",
   "execution_count": 101,
   "metadata": {},
   "outputs": [
    {
     "data": {
      "text/plain": [
       "Text(0.5,0,'Month')"
      ]
     },
     "execution_count": 101,
     "metadata": {},
     "output_type": "execute_result"
    },
    {
     "data": {
      "image/png": "[encoded data removed]",
      "text/plain": [
       "<Figure size 864x576 with 1 Axes>"
      ]
     },
     "metadata": {},
     "output_type": "display_data"
    }
   ],
   "source": [
    "fig0=fig0_dt.plot(figsize = (12,8))\n",
    "plt.title('MCMIS Crash Rate per Month 2008-2017')\n",
    "fig0.tick_params(axis = 'both', which = 'major', labelsize = 18)\n",
    "fig0.set_ylabel('Crash Rate per Month')\n",
    "fig0.set_xlabel('Month')"
   ]
  },
  {
   "cell_type": "code",
   "execution_count": null,
   "metadata": {},
   "outputs": [],
   "source": []
  }
 ],
 "metadata": {
  "kernelspec": {
   "display_name": "Python 3",
   "language": "python",
   "name": "python3"
  },
  "language_info": {
   "codemirror_mode": {
    "name": "ipython",
    "version": 3
   },
   "file_extension": ".py",
   "mimetype": "text/x-python",
   "name": "python",
   "nbconvert_exporter": "python",
   "pygments_lexer": "ipython3",
   "version": "3.6.5"
  }
 },
 "nbformat": 4,
 "nbformat_minor": 2
}
